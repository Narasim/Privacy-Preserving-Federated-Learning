{
 "cells": [
  {
   "cell_type": "code",
   "execution_count": 51,
   "id": "252e7d81",
   "metadata": {},
   "outputs": [],
   "source": [
    "import numpy as np\n",
    "from sklearn import datasets\n",
    "from sklearn.neighbors import KNeighborsClassifier\n",
    "from sklearn.model_selection import train_test_split\n",
    "from sklearn.metrics import accuracy_score\n",
    "from sklearn.svm import SVC\n",
    "from sklearn.datasets import make_blobs"
   ]
  },
  {
   "cell_type": "code",
   "execution_count": 63,
   "id": "908fd405",
   "metadata": {},
   "outputs": [],
   "source": [
    "class Client():\n",
    "    def __init__(self):\n",
    "        print(\"Client\")\n",
    "    \n",
    "    def sendClientData(self, X, y, serverXTestData, serverYTestData, model):\n",
    "        \"\"\" Send Client Data X,y,\n",
    "            Send Server Test Data serverXTestData, serverYTestData, and\n",
    "            the model to run\"\"\"\n",
    "        self.model = model\n",
    "        self.X = X\n",
    "        self.y = y\n",
    "        self.XTrain, self.XTest, self.yTrain, self.yTest = train_test_split(self.X, self.y, test_size=0.20, random_state=42)\n",
    "        self.serverXTestData = serverXTestData\n",
    "        self.serverYTestData = serverYTestData\n",
    "        \n",
    "          \n",
    "    def fitModel(self):\n",
    "        \"\"\"Train the Model\n",
    "            No Params Required\"\"\"\n",
    "        self.model.fit(self.XTrain, self.yTrain)\n",
    "        \n",
    "    def getModelWeights(self):\n",
    "        \"\"\"returns the Weight Vector\"\"\"\n",
    "        return self.model.coef_\n",
    "    \n",
    "    def getModelBias(self):\n",
    "        \"\"\"Returns the Bias\"\"\"\n",
    "        return self.model.intercept_\n",
    "    \n",
    "    def setServerModelWeights(self, coeff, intercept):\n",
    "        \"\"\"Overall Weights and the Bias are set\n",
    "            Get the weights and bias from the server\"\"\"\n",
    "        self.serverCoef = coeff\n",
    "        self.ServerIntercept = intercept\n",
    "        \n",
    "    def getClientLocalAccuracy(self):\n",
    "        \"\"\"Returns Accuracy on Local Test Data\n",
    "            Accuracy is calculated based on local weights and bais\"\"\"\n",
    "        self.pred = np.zeros(self.XTest.shape[0])\n",
    "        for i in range(self.XTest.shape[0]):\n",
    "            val = (self.model.coef_+self.model.intercept_).dot(self.XTest[i])\n",
    "            if(val>=0):\n",
    "                self.pred[i] = 1\n",
    "        return accuracy_score(self.pred, self.yTest)\n",
    "    \n",
    "    def getClientGlobalAccuracy(self):\n",
    "        \"\"\"Returns Accuracy on Global Test Data\n",
    "            Accuracy is calculated based on server weights and bias\"\"\"\n",
    "        self.pred = np.zeros(self.serverXTestData.shape[0])\n",
    "        for i in range(self.serverXTestData.shape[0]):\n",
    "            val = (self.serverCoef+self.ServerIntercept).dot(self.serverXTestData[i])\n",
    "            if(val>=0):\n",
    "                self.pred[i] = 1\n",
    "        return accuracy_score(self.pred, self.serverYTestData)\n",
    "    \n",
    "        "
   ]
  },
  {
   "cell_type": "code",
   "execution_count": 75,
   "id": "2658714d",
   "metadata": {},
   "outputs": [],
   "source": [
    "class Server():\n",
    "    def __init__(self, nClients, timeStamps, model):\n",
    "        \"\"\"nClients = number of clients\n",
    "            timeStamp = number of times the data is transfered between client and server\n",
    "            model = The model to train\"\"\"\n",
    "        self.nClients = nClients\n",
    "        self.model = model\n",
    "        self.pred = np.zeros(n)\n",
    "        self.cl = []\n",
    "        for i in range(self.nClients):\n",
    "            self.cl.append(Client())\n",
    "        self.timeStamps = timeStamps\n",
    "    \n",
    "    def sendDataToServer(self, X, y):\n",
    "        self.X = X\n",
    "        self.y = y\n",
    "        self.fullTSData = np.int16(self.X.shape[0]/self.timeStamps)\n",
    "    \n",
    "    def splitData(self):\n",
    "        self.XTrain, self.XTest, self.yTrain, self.yTest = train_test_split(X, y, test_size=0.20, random_state=42)\n",
    "#         self.eachClient = np.int16(self.XTrain.shape[0]/self.nClients)\n",
    "#         self.pred = np.zeros(self.XTest.shape[0])\n",
    "        \n",
    "    def divideDataForClients(self):\n",
    "        self.splitLocations = []\n",
    "        self.timestampDataSize = np.int16(self.XTrain.shape[0]/self.timeStamps)\n",
    "        dataPointer = 0\n",
    "        for i in range(self.timeStamps):\n",
    "            self.splitLocations.append([dataPointer, dataPointer+self.timestampDataSize])\n",
    "            dataPointer = dataPointer + self.timestampDataSize\n",
    "            \n",
    "    def sendDataAndRunAtClients(self):\n",
    "        self.eachClientDataSize = int16(self.timestampDataSize/self.nClients)\n",
    "        j = 0\n",
    "        for i in range(self.nClients):\n",
    "            self.cl[i].sendClientData(self.XTrain[j:j+self.eachClientDataSize], self.yTrain[j:j+self.eachClientDataSize], self.model)\n",
    "            j = j + self.eachClientDataSize\n",
    "            self.cl[i].fitModel()\n",
    "               \n",
    "    def aggregateModel(self):\n",
    "        self.finalWeights = np.zeros(self.cl[0].getModelWeights().shape)\n",
    "        self.finalBias = np.zeros(self.cl[0].getModelBias().shape)\n",
    "        for i in range(self.nClients):\n",
    "            self.finalWeights += self.cl[i].getModelWeights()\n",
    "            self.finalBias += self.cl[i].getModelBias()\n",
    "    \n",
    "    def serverPredict(self):\n",
    "        self.pred = np.zeros(self.XTest.shape[0])\n",
    "        for i in range(self.XTest.shape[0]):\n",
    "            val = (self.finalWeights+self.finalBias).dot(self.XTest[i])\n",
    "            if(val>=0):\n",
    "                self.pred[i] = 1\n",
    "    \n",
    "    def serverAccuracy(self):\n",
    "        return accuracy_score(self.pred, self.yTest)\n",
    "            "
   ]
  },
  {
   "cell_type": "code",
   "execution_count": 69,
   "id": "7fed8cde",
   "metadata": {},
   "outputs": [
    {
     "name": "stdout",
     "output_type": "stream",
     "text": [
      "Client\n",
      "Client\n"
     ]
    }
   ],
   "source": [
    "(X, y) = make_blobs(n_samples=1000, n_features=2, centers=2, cluster_std=1.5, random_state=1)\n",
    "model = SVC(C = 1e5, kernel = 'linear')\n",
    "serv = Server(2, 3, model)\n",
    "serv.sendDataToServer(X, y)\n",
    "serv.splitData()\n",
    "serv.divideDataForClients()"
   ]
  },
  {
   "cell_type": "code",
   "execution_count": 73,
   "id": "3cbe152f",
   "metadata": {},
   "outputs": [
    {
     "data": {
      "text/plain": [
       "[[0, 266], [266, 532], [532, 798]]"
      ]
     },
     "execution_count": 73,
     "metadata": {},
     "output_type": "execute_result"
    }
   ],
   "source": [
    "serv.locations"
   ]
  },
  {
   "cell_type": "code",
   "execution_count": null,
   "id": "03697938",
   "metadata": {},
   "outputs": [],
   "source": [
    "(X, y) = make_blobs(n_samples=1000, n_features=2, centers=2, cluster_std=1.5, random_state=1)\n",
    "model = SVC(C = 1e5, kernel = 'linear')\n",
    "serv = Server(2, model)\n",
    "timeStamps = 4\n",
    "\n",
    "for i in range(timeStamps):\n",
    "    print(\"Timestamp\", i)\n",
    "    eachClientDataSize = np.int16(fullTSData/nc) \n",
    "    for k in range(nc):\n",
    "        print(\"To client \",k,\"indices\",cc,\"->\",cc+eachc)\n",
    "        cc = cc + eachc\n",
    "    if(cc%fullTSData != 0):\n",
    "        deficit = fullTSData - (cc%fullTSData)\n",
    "    print(deficit)\n"
   ]
  },
  {
   "cell_type": "code",
   "execution_count": 48,
   "id": "6d438fb1",
   "metadata": {},
   "outputs": [
    {
     "name": "stdout",
     "output_type": "stream",
     "text": [
      "Timestamp 0\n",
      "To client  0 indices 0 -> 5555\n",
      "To client  1 indices 5555 -> 11110\n",
      "To client  2 indices 11110 -> 16665\n",
      "1\n",
      "Timestamp 1\n",
      "To client  0 indices 16665 -> 22220\n",
      "To client  1 indices 22220 -> 27775\n",
      "To client  2 indices 27775 -> 33330\n",
      "2\n",
      "Timestamp 2\n",
      "To client  0 indices 33330 -> 38885\n",
      "To client  1 indices 38885 -> 44440\n",
      "To client  2 indices 44440 -> 49995\n",
      "3\n",
      "Timestamp 3\n",
      "To client  0 indices 49995 -> 55550\n",
      "To client  1 indices 55550 -> 61105\n",
      "To client  2 indices 61105 -> 66660\n",
      "4\n",
      "Timestamp 4\n",
      "To client  0 indices 66660 -> 72215\n",
      "To client  1 indices 72215 -> 77770\n",
      "To client  2 indices 77770 -> 83325\n",
      "5\n",
      "Timestamp 5\n",
      "To client  0 indices 83325 -> 88880\n",
      "To client  1 indices 88880 -> 94435\n",
      "To client  2 indices 94435 -> 99990\n",
      "6\n"
     ]
    }
   ],
   "source": [
    "n = 100000\n",
    "ts = 6\n",
    "nc = 3\n",
    "fullTSData = np.int16(n/ts)\n",
    "cc = 0\n",
    "for i in range(ts):\n",
    "    print(\"Timestamp\", i)\n",
    "    eachc = np.int16(fullTSData/nc) \n",
    "    for k in range(nc):\n",
    "        print(\"To client \",k,\"indices\",cc,\"->\",cc+eachc)\n",
    "        cc = cc + eachc\n",
    "    if(cc%fullTSData != 0):\n",
    "        deficit = fullTSData - (cc%fullTSData)\n",
    "    print(deficit)\n",
    "    "
   ]
  },
  {
   "cell_type": "code",
   "execution_count": 31,
   "id": "9cde3b5e",
   "metadata": {},
   "outputs": [
    {
     "name": "stdout",
     "output_type": "stream",
     "text": [
      "Client\n",
      "Client\n",
      "0.965\n"
     ]
    }
   ],
   "source": [
    "\n",
    "\n",
    "serv.sendDataToServer(X,y)\n",
    "serv.splitData()\n",
    "serv.sendDataAndRunAtClients()\n",
    "serv.aggregateModel()\n",
    "serv.serverPredict()\n",
    "print(serv.serverAccuracy())"
   ]
  },
  {
   "cell_type": "code",
   "execution_count": 133,
   "id": "06e4ba96",
   "metadata": {},
   "outputs": [
    {
     "name": "stdout",
     "output_type": "stream",
     "text": [
      "(1, 2) (2,)\n",
      "[[-1.84656389 -1.50004426]] [0. 0.]\n"
     ]
    }
   ],
   "source": [
    "print(serv.cl[0].getModelWeights().shape, serv.finalWeights.shape)\n",
    "print(serv.cl[0].getModelWeights(), serv.finalWeights)"
   ]
  },
  {
   "cell_type": "code",
   "execution_count": 18,
   "id": "ad87d6ca",
   "metadata": {},
   "outputs": [],
   "source": [
    "model = SVC(C = 1e5, kernel = 'linear')"
   ]
  },
  {
   "cell_type": "code",
   "execution_count": 51,
   "id": "9524f9b9",
   "metadata": {},
   "outputs": [
    {
     "name": "stdout",
     "output_type": "stream",
     "text": [
      "Nothing\n"
     ]
    },
    {
     "data": {
      "text/plain": [
       "1.0"
      ]
     },
     "execution_count": 51,
     "metadata": {},
     "output_type": "execute_result"
    }
   ],
   "source": [
    "cl1 = client()\n",
    "iris = datasets.load_iris()\n",
    "X = iris.data\n",
    "y = iris.target\n",
    "knn = KNeighborsClassifier(n_neighbors=3)\n",
    "cl1.get_split_data(X, y, knn)\n",
    "cl1.fit_model()\n",
    "cl1.get_accuracy()"
   ]
  },
  {
   "cell_type": "code",
   "execution_count": 29,
   "id": "b9d11044",
   "metadata": {},
   "outputs": [
    {
     "data": {
      "text/plain": [
       "SVC(C=100000.0, kernel='linear')"
      ]
     },
     "execution_count": 29,
     "metadata": {},
     "output_type": "execute_result"
    }
   ],
   "source": [
    "# iris = datasets.load_iris()\n",
    "# X = iris.data\n",
    "# y = iris.target\n",
    "(X, y) = make_blobs(n_samples=5000, n_features=2, centers=2, cluster_std=1.5, random_state=1)\n",
    "x_train,x_test, y_train, y_test=train_test_split(X,y,test_size=0.20)\n",
    "clf = SVC(C = 1e5, kernel = 'linear')\n",
    "clf.fit(x_train, y_train)\n",
    "# model.dual_coef_.shape\n",
    "# pred = clf.predict(x_test)\n",
    "# accuracy_score(pred, y_test)"
   ]
  },
  {
   "cell_type": "code",
   "execution_count": 74,
   "id": "6889e96e",
   "metadata": {},
   "outputs": [
    {
     "name": "stdout",
     "output_type": "stream",
     "text": [
      "[[-1.27665358 -1.19693306]] [-7.36137072]\n"
     ]
    }
   ],
   "source": [
    "print(clf.coef_, clf.intercept_)"
   ]
  },
  {
   "cell_type": "code",
   "execution_count": 75,
   "id": "88c6c518",
   "metadata": {},
   "outputs": [],
   "source": [
    "pred = np.zeros(x_test.shape[0])\n",
    "for i in range(x_test.shape[0]):\n",
    "    val = clf.coef_.dot(x_test[i])\n",
    "    if(val>=0):\n",
    "        pred[i] = 1"
   ]
  },
  {
   "cell_type": "code",
   "execution_count": 76,
   "id": "8b3d925b",
   "metadata": {},
   "outputs": [
    {
     "data": {
      "text/plain": [
       "0.922"
      ]
     },
     "execution_count": 76,
     "metadata": {},
     "output_type": "execute_result"
    }
   ],
   "source": [
    "accuracy_score(pred, y_test)"
   ]
  },
  {
   "cell_type": "code",
   "execution_count": 30,
   "id": "3da52b5b",
   "metadata": {},
   "outputs": [],
   "source": [
    "iris = datasets.load_iris()\n",
    "X = iris.data\n",
    "y = iris.target\n",
    "X_train, X_test, y_train, y_test = train_test_split(X, y, test_size=0.20, random_state=42)"
   ]
  },
  {
   "cell_type": "code",
   "execution_count": 34,
   "id": "53d5dcbd",
   "metadata": {},
   "outputs": [
    {
     "data": {
      "text/plain": [
       "array([1, 0, 2, 1, 1, 0, 1, 2, 1, 1, 2, 0, 0, 0, 0, 1, 2, 1, 1, 2, 0, 2,\n",
       "       0, 2, 2, 2, 2, 2, 0, 0])"
      ]
     },
     "execution_count": 34,
     "metadata": {},
     "output_type": "execute_result"
    }
   ],
   "source": [
    "y_test"
   ]
  },
  {
   "cell_type": "code",
   "execution_count": 36,
   "id": "aa11f4b5",
   "metadata": {},
   "outputs": [],
   "source": [
    "knn = KNeighborsClassifier(n_neighbors=3) \n",
    "fit = knn.fit(X_train, y_train) "
   ]
  },
  {
   "cell_type": "code",
   "execution_count": 43,
   "id": "8cc19466",
   "metadata": {},
   "outputs": [
    {
     "data": {
      "text/plain": [
       "1.0"
      ]
     },
     "execution_count": 43,
     "metadata": {},
     "output_type": "execute_result"
    }
   ],
   "source": [
    "preds = fit.predict(X_test)\n",
    "accuracy_score(preds, y_test)"
   ]
  },
  {
   "cell_type": "code",
   "execution_count": 12,
   "id": "e7de9bc2",
   "metadata": {},
   "outputs": [
    {
     "name": "stdout",
     "output_type": "stream",
     "text": [
      "519\n",
      "[ 519. 1038. 1557. 2076. 2595. 3114. 3635.]\n"
     ]
    }
   ],
   "source": [
    "n = 3635\n",
    "c = 7\n",
    "arr = np.zeros(c)\n",
    "each = np.int16(n/c)\n",
    "print(each)\n",
    "j = 0\n",
    "for i in range(c):\n",
    "    j = j + each\n",
    "    arr[i] = j\n",
    "arr[c-1] = n\n",
    "print(arr)"
   ]
  },
  {
   "cell_type": "code",
   "execution_count": 28,
   "id": "c8a5eed6",
   "metadata": {},
   "outputs": [
    {
     "data": {
      "text/plain": [
       "<matplotlib.collections.PathCollection at 0x7ff8fbe98310>"
      ]
     },
     "execution_count": 28,
     "metadata": {},
     "output_type": "execute_result"
    },
    {
     "data": {
      "image/png": "[encoded data removed]",
      "text/plain": [
       "<Figure size 432x288 with 1 Axes>"
      ]
     },
     "metadata": {},
     "output_type": "display_data"
    }
   ],
   "source": [
    "from sklearn.datasets import make_blobs\n",
    "import matplotlib.pyplot as plt\n",
    "%matplotlib inline\n",
    "\n",
    "# generate a 2-class classification problem with 1,000 data points,\n",
    "# where each data point is a 2-D feature vector\n",
    "(X, y) = make_blobs(n_samples=1000, n_features=2, centers=2, cluster_std=1.5, random_state=1)\n",
    "y = y.reshape((y.shape[0], 1))\n",
    "\n",
    "X.shape, y.shape\n",
    "\n",
    "# plot the (testing) classification data\n",
    "plt.style.use(\"ggplot\")\n",
    "plt.figure()\n",
    "plt.title(\"Data\")\n",
    "plt.scatter(X[:, 0], X[:, 1], marker=\"o\", c=y[:, 0], s=30)"
   ]
  },
  {
   "cell_type": "code",
   "execution_count": 52,
   "id": "b269e421",
   "metadata": {},
   "outputs": [],
   "source": [
    "(X, y) = make_blobs(n_samples=5000, n_features=2, centers=2, \n",
    "                 cluster_std=2, random_state=1)"
   ]
  },
  {
   "cell_type": "code",
   "execution_count": 54,
   "id": "d12fb9d5",
   "metadata": {},
   "outputs": [
    {
     "data": {
      "text/plain": [
       "(5000,)"
      ]
     },
     "execution_count": 54,
     "metadata": {},
     "output_type": "execute_result"
    }
   ],
   "source": [
    "y.shape"
   ]
  }
 ],
 "metadata": {
  "kernelspec": {
   "display_name": "Python 3",
   "language": "python",
   "name": "python3"
  },
  "language_info": {
   "codemirror_mode": {
    "name": "ipython",
    "version": 3
   },
   "file_extension": ".py",
   "mimetype": "text/x-python",
   "name": "python",
   "nbconvert_exporter": "python",
   "pygments_lexer": "ipython3",
   "version": "3.8.8"
  }
 },
 "nbformat": 4,
 "nbformat_minor": 5
}
